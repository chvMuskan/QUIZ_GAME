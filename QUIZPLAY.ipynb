{
 "cells": [
  {
   "cell_type": "code",
   "execution_count": 5,
   "id": "589b7429-613e-44e8-86f5-9c8a5861f144",
   "metadata": {},
   "outputs": [
    {
     "name": "stdout",
     "output_type": "stream",
     "text": [
      "QUESTION 2 of 9\n",
      "Is python case sensitive when dealing with identifiers?\n",
      "A. no\n",
      "B. yes\n",
      "C. machine dependent\n",
      "D. none of the mentioned\n"
     ]
    },
    {
     "name": "stdin",
     "output_type": "stream",
     "text": [
      "Enter your answer (A,B,C,D):  B\n"
     ]
    },
    {
     "name": "stdout",
     "output_type": "stream",
     "text": [
      "Correct!\n",
      "\n",
      "QUESTION 3 of 9\n",
      "Which of the folllowing is not a property of a set?\n",
      "A. Ordered\n",
      "B. Mutable\n",
      "C. Does not allow duplicates\n",
      "D. All of the above\n"
     ]
    },
    {
     "name": "stdin",
     "output_type": "stream",
     "text": [
      "Enter your answer (A,B,C,D):  B\n"
     ]
    },
    {
     "name": "stdout",
     "output_type": "stream",
     "text": [
      "Wrong! The correct answer is D.\n",
      "\n",
      "QUESTION 4 of 9\n",
      "Which keyword is used for function in python language?\n",
      "A. Function\n",
      "B. def\n",
      "C. Fun\n",
      "D. Define\n"
     ]
    },
    {
     "name": "stdin",
     "output_type": "stream",
     "text": [
      "Enter your answer (A,B,C,D):  B\n"
     ]
    },
    {
     "name": "stdout",
     "output_type": "stream",
     "text": [
      "Correct!\n",
      "\n",
      "QUESTION 5 of 9\n",
      "Which of the following data sructures are not ordered?\n",
      "A. Tuples\n",
      "B. Sets\n",
      "C. Dictionaries\n",
      "D. Both a and b\n"
     ]
    },
    {
     "name": "stdin",
     "output_type": "stream",
     "text": [
      "Enter your answer (A,B,C,D):  B\n"
     ]
    },
    {
     "name": "stdout",
     "output_type": "stream",
     "text": [
      "Wrong! The correct answer is A.\n",
      "\n",
      "QUESTION 6 of 9\n",
      "Who developed Python Programming Languages?\n",
      "A. Wick van Rossum\n",
      "B. Rasum Lerdorf\n",
      "C. Guido  van Rossum\n",
      "D. Niene Stom\n"
     ]
    },
    {
     "name": "stdin",
     "output_type": "stream",
     "text": [
      "Enter your answer (A,B,C,D):  B\n"
     ]
    },
    {
     "name": "stdout",
     "output_type": "stream",
     "text": [
      "Wrong! The correct answer is B.\n",
      "\n",
      "QUESTION 7 of 9\n",
      "Which of the following is/are immutable in Python?\n",
      "A. Tuples\n",
      "B. Dictionaries\n",
      "C. Sets\n",
      "D. All of the above\n"
     ]
    },
    {
     "name": "stdin",
     "output_type": "stream",
     "text": [
      "Enter your answer (A,B,C,D):  B\n"
     ]
    },
    {
     "name": "stdout",
     "output_type": "stream",
     "text": [
      "Wrong! The correct answer is D.\n",
      "\n",
      "QUESTION 8 of 9\n",
      "Which of the following functions cannot be applied to dictionaries?\n",
      "A. get()\n",
      "B. value()\n",
      "C. itemss()\n",
      "D. None of the above\n"
     ]
    },
    {
     "name": "stdin",
     "output_type": "stream",
     "text": [
      "Enter your answer (A,B,C,D):  B\n"
     ]
    },
    {
     "name": "stdout",
     "output_type": "stream",
     "text": [
      "Correct!\n",
      "\n",
      "QUESTION 9 of 9\n",
      "All keyword in python are in______________ \n",
      "A. Capitalised\n",
      "B. lower case\n",
      "C. UPPER CASE\n",
      "D. none of the mentioned\n"
     ]
    },
    {
     "name": "stdin",
     "output_type": "stream",
     "text": [
      "Enter your answer (A,B,C,D):  B\n"
     ]
    },
    {
     "ename": "IndexError",
     "evalue": "list index out of range",
     "output_type": "error",
     "traceback": [
      "\u001b[1;31m---------------------------------------------------------------------------\u001b[0m",
      "\u001b[1;31mIndexError\u001b[0m                                Traceback (most recent call last)",
      "Cell \u001b[1;32mIn[5], line 75\u001b[0m\n\u001b[0;32m     73\u001b[0m         score \u001b[38;5;241m+\u001b[39m\u001b[38;5;241m=\u001b[39m \u001b[38;5;241m1\u001b[39m\n\u001b[0;32m     74\u001b[0m     \u001b[38;5;28;01melse\u001b[39;00m:\n\u001b[1;32m---> 75\u001b[0m         \u001b[38;5;28mprint\u001b[39m(\u001b[38;5;124mf\u001b[39m\u001b[38;5;124m\"\u001b[39m\u001b[38;5;124mWrong! The correct answer is \u001b[39m\u001b[38;5;132;01m{\u001b[39;00mquiz_data[i\u001b[38;5;241m+\u001b[39m\u001b[38;5;241m1\u001b[39m][\u001b[38;5;124m'\u001b[39m\u001b[38;5;124mANSWER\u001b[39m\u001b[38;5;124m'\u001b[39m]\u001b[38;5;132;01m}\u001b[39;00m\u001b[38;5;124m.\u001b[39m\u001b[38;5;130;01m\\n\u001b[39;00m\u001b[38;5;124m\"\u001b[39m)\n\u001b[0;32m     77\u001b[0m \u001b[38;5;28mprint\u001b[39m(\u001b[38;5;124mf\u001b[39m\u001b[38;5;124m\"\u001b[39m\u001b[38;5;124mYou scored \u001b[39m\u001b[38;5;132;01m{\u001b[39;00mscore\u001b[38;5;132;01m}\u001b[39;00m\u001b[38;5;124m/9.\u001b[39m\u001b[38;5;124m\"\u001b[39m)\n",
      "\u001b[1;31mIndexError\u001b[0m: list index out of range"
     ]
    }
   ],
   "source": [
    "import random\n",
    "#Question to be asked\n",
    "quiz_data = [\n",
    "    {\n",
    "        \"QUESTION\" : \"Which of the following is/are immutable in Python?\",\n",
    "        \"options\" : [\"A. Tuples\", \"B. Dictionaries\", \"C. Sets\", \"D. All of the above\"],\n",
    "        \"ANSWER\" : \"A\"\n",
    "    },\n",
    "    {\n",
    "        \"QUESTION\" : \"Which of the folllowing is not a property of a set?\",\n",
    "        \"options\" : [\"A. Ordered\", \"B. Mutable\", \"C. Does not allow duplicates\", \"D. All of the above\"],\n",
    "        \"ANSWER\" : \"A\"\n",
    "    },\n",
    "    {\n",
    "        \"QUESTION\" : \"Which of the following functions cannot be applied to dictionaries?\",\n",
    "        \"options\" : [\"A. get()\", \"B. value()\", \"C. itemss()\", \"D. None of the above\"],\n",
    "        \"ANSWER\" : \"B\"\n",
    "\n",
    "    },\n",
    "    {\n",
    "        \"QUESTION\" : \"Which of the following data sructures are not ordered?\",\n",
    "        \"options\" : [\"A. Tuples\", \"B. Sets\", \"C. Dictionaries\", \"D. Both a and b\"],\n",
    "        \"ANSWER\" : \"D\"\n",
    "    },\n",
    "    {\n",
    "        \"QUESTION\" : \"Who developed Python Programming Languages?\",\n",
    "        \"options\" : [\"A. Wick van Rossum\", \"B. Rasum Lerdorf\", \"C. Guido  van Rossum\", \"D. Niene Stom\"],\n",
    "        \"ANSWER\" : \"C\"\n",
    "\n",
    "    },\n",
    "    {\n",
    "        \"QUESTION\" : \"Which type of Programming does Pythonn support?\",\n",
    "        \"options\": [\"A. object-oriented programming\", \"B. structured programming\", \"C. functional programming\", \"D. all of the above\"],\n",
    "        \"ANSWER\" : \"D\"\n",
    "    },\n",
    "    {\n",
    "        \"QUESTION\" : \"Is python case sensitive when dealing with identifiers?\",\n",
    "        \"options\" : [\"A. no\", \"B. yes\", \"C. machine dependent\", \"D. none of the mentioned\"],\n",
    "        \"ANSWER\" : \"B\"\n",
    "\n",
    "    },\n",
    "    {\n",
    "        \"QUESTION\" : \"All keyword in python are in______________ \",\n",
    "        \"options\" : [\"A. Capitalised\", \"B. lower case\", \"C. UPPER CASE\", \"D. none of the mentioned\"],\n",
    "        \"ANSWER\" : \"D\"\n",
    "    },\n",
    "    {\n",
    "        \"QUESTION\" :\"Which keyword is used for function in python language?\",\n",
    "        \"options\" : [\"A. Function\", \"B. def\", \"C. Fun\", \"D. Define\"],\n",
    "        \"ANSWER\" : \"B\"\n",
    "    }\n",
    "]\n",
    "\n",
    "\n",
    "#displaying content\n",
    "def ask_question(question_data):\n",
    "    print(question_data[\"QUESTION\"])\n",
    "    for option in question_data[\"options\"]:\n",
    "        print(option)\n",
    "    user_answer = input(\"Enter your answer (A,B,C,D): \").upper()\n",
    "    if user_answer == question_data[\"ANSWER\"]:\n",
    "        return True\n",
    "    else:\n",
    "        return False\n",
    "#main body\n",
    "if __name__==\"__main__\":\n",
    "    score=0\n",
    "    random.shuffle(quiz_data)\n",
    "    for i in range(1,10):\n",
    "        print(f'QUESTION {i} of {len(quiz_data)}')\n",
    "        if ask_question(quiz_data[i-1]):\n",
    "            print(\"Correct!\\n\")\n",
    "            score += 1\n",
    "        else:\n",
    "            print(f\"Wrong! The correct answer is {quiz_data[i-1]['ANSWER']}.\\n\")\n",
    "\n",
    "    print(f\"You scored {score}/9.\")\n",
    "   "
   ]
  },
  {
   "cell_type": "code",
   "execution_count": null,
   "id": "b056d05a-ba8f-4f63-aae5-f0b037c575b2",
   "metadata": {},
   "outputs": [],
   "source": [
    "\n"
   ]
  },
  {
   "cell_type": "code",
   "execution_count": null,
   "id": "5ef5c133-4fc0-4e3f-bce5-f841e3188434",
   "metadata": {},
   "outputs": [],
   "source": []
  },
  {
   "cell_type": "code",
   "execution_count": null,
   "id": "cde32b59-7c2a-4490-9ccb-fd32f53227b2",
   "metadata": {},
   "outputs": [],
   "source": []
  }
 ],
 "metadata": {
  "kernelspec": {
   "display_name": "Python 3 (ipykernel)",
   "language": "python",
   "name": "python3"
  },
  "language_info": {
   "codemirror_mode": {
    "name": "ipython",
    "version": 3
   },
   "file_extension": ".py",
   "mimetype": "text/x-python",
   "name": "python",
   "nbconvert_exporter": "python",
   "pygments_lexer": "ipython3",
   "version": "3.12.4"
  }
 },
 "nbformat": 4,
 "nbformat_minor": 5
}
